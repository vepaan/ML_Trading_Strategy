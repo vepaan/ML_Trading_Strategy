{
 "cells": [
  {
   "cell_type": "code",
   "execution_count": 1,
   "metadata": {},
   "outputs": [
    {
     "name": "stderr",
     "output_type": "stream",
     "text": [
      "[*********************100%***********************]  503 of 503 completed\n"
     ]
    }
   ],
   "source": [
    "#Downloading and formatting the dataset\n",
    "\n",
    "from statsmodels.regression.rolling import RollingOLS\n",
    "import pandas_datareader.data as web\n",
    "import matplotlib.pyplot as plt\n",
    "import statsmodels.api as sm\n",
    "import pandas as pd\n",
    "import numpy as np\n",
    "import datetime as dt\n",
    "import yfinance as yf\n",
    "import pandas_ta\n",
    "import warnings\n",
    "warnings.filterwarnings('ignore')\n",
    "\n",
    "sp500 = pd.read_html('https://en.wikipedia.org/wiki/List_of_S%26P_500_companies')[0]\n",
    "sp500['Symbol'] = sp500['Symbol'].str.replace('.', '-')\n",
    "symbols_list = sp500['Symbol'].unique().tolist()\n",
    "\n",
    "end_date = dt.datetime.now()\n",
    "start_date = pd.to_datetime(end_date) - pd.DateOffset(365*8)\n",
    "\n",
    "df = yf.download(tickers = symbols_list, start = start_date, end = end_date)\n",
    "df = df.stack()\n",
    "df.index.names = ['date', 'ticker']\n",
    "df.columns = df.columns.str.lower()"
   ]
  },
  {
   "cell_type": "code",
   "execution_count": 2,
   "metadata": {},
   "outputs": [],
   "source": [
    "#Computing the technical indicators\n",
    "\n",
    "df['garman_klass_vol'] = ((np.log(df['high']) - np.log(df['low'])) ** 2) / 2 - (2 * np.log(2) - 1) * ((np.log(df['adj close']) - np.log(df['open'])) ** 2)\n",
    "df['rsi'] = df.groupby(level = 1)['adj close'].transform(lambda x: pandas_ta.rsi(close = x, length = 20))\n",
    "\n",
    "df['bb_low'] = df.groupby(level = 1)['adj close'].transform(lambda x: pandas_ta.bbands(close = np.log1p(x), length = 20).iloc[:,0])\n",
    "df['bb_mid'] = df.groupby(level = 1)['adj close'].transform(lambda x: pandas_ta.bbands(close = np.log1p(x), length = 20).iloc[:,1]) \n",
    "df['bb_high'] = df.groupby(level = 1)['adj close'].transform(lambda x: pandas_ta.bbands(close = np.log1p(x), length = 20).iloc[:,2])\n",
    "\n",
    "def compute_atr(stock_data):\n",
    "    atr = pandas_ta.atr(high = stock_data['high'],\n",
    "                        low = stock_data['low'],\n",
    "                        close = stock_data['close'],\n",
    "                        length = 14)\n",
    "    return atr.sub(atr.mean()).div(atr.std())\n",
    "\n",
    "df['atr'] = df.groupby(level = 1, group_keys = False).apply(compute_atr)\n",
    "\n",
    "def compute_macd(close):\n",
    "    macd = pandas_ta.macd(close=close, length=20)\n",
    "    if macd is not None:\n",
    "        return macd.iloc[:, 0].sub(macd.iloc[:, 0].mean()).div(macd.iloc[:, 0].std())\n",
    "    else:\n",
    "        return pd.Series([np.nan] * len(close), index=close.index)\n",
    "\n",
    "df['macd'] = df.groupby(level = 1, group_keys = False)['adj close'].apply(compute_macd)\n",
    "\n",
    "df['dollar_volume'] = (df['adj close'] * df['volume'])/1e6"
   ]
  },
  {
   "cell_type": "code",
   "execution_count": 3,
   "metadata": {},
   "outputs": [],
   "source": [
    "#Aggregate to monthly level and filter top 150 most liquid stocks for each month\n",
    "'''This is done to reduce training time for the ML model and experiment with strats'''\n",
    "#This computes the average monthly dollar volume to give a sense of liquidity\n",
    "\n",
    "last_cols = [c for c in df.columns.unique(0) if c not in ['dollar_volume', 'volume',\n",
    "                                                          'open','high','low','close']]\n",
    "\n",
    "data = pd.concat([df.unstack('ticker')['dollar_volume'].resample('M').mean().stack().to_frame('dollar_volume'),\n",
    "          df.unstack()[last_cols].resample('M').last().stack('ticker')], axis = 1).dropna()"
   ]
  },
  {
   "cell_type": "code",
   "execution_count": 4,
   "metadata": {},
   "outputs": [],
   "source": [
    "#Calculating the 5 year rolling average rolling average for each stock\n",
    "#and use this value to filter out top 150 most liquid stocks for each month\n",
    "\n",
    "data['dollar_volume'] = (data.loc[:, 'dollar_volume'].unstack('ticker').rolling(5*12, min_periods=12).mean().stack())\n",
    "\n",
    "data['dollar_vol_rank'] = data.groupby('date')['dollar_volume'].rank(ascending = False)\n",
    "\n",
    "#We are finding the 150 most liquid stocks then dropping the columns that we dont need\n",
    "data = data[data['dollar_vol_rank']<150].drop(['dollar_volume', 'dollar_vol_rank'], axis = 1)"
   ]
  },
  {
   "cell_type": "code",
   "execution_count": 5,
   "metadata": {},
   "outputs": [],
   "source": [
    "'''Removing the timezones from the dataframe data as they are not necessary'''\n",
    "#Remove the time zone from the 'date' index of data\n",
    "data.index = data.index.set_levels([data.index.levels[0].tz_localize(None), data.index.levels[1]])\n",
    "\n",
    "#Convert the 'date' index to only the date part (remove time part)\n",
    "data.index = data.index.set_levels([data.index.levels[0].date, data.index.levels[1]])"
   ]
  },
  {
   "cell_type": "code",
   "execution_count": 6,
   "metadata": {},
   "outputs": [],
   "source": [
    "#Calculating monthly returns for different time horizons as features\n",
    "'''To capture time series dynamics that reflect, for instance, momentum patterns, we\n",
    "compute historical returns using the method .pct_change(lag), that is, returns over\n",
    "various monthly periods as identified by lags'''\n",
    "\n",
    "def calculate_returns(df):\n",
    "\n",
    "    outlier_cutoff = 0.005 #only the 99.005 percentile is considered and values above this percentile are assigned the same value as the cutoff\n",
    "    lags = [1, 2, 3, 6, 9, 12]\n",
    "\n",
    "    for lag in lags:\n",
    "        df[f'return_{lag}m'] = (df['adj close']\n",
    "                            .pct_change(lag)\n",
    "                            .pipe(lambda x: x.clip(lower = x.quantile(outlier_cutoff),\n",
    "                                                    upper = x.quantile(1 - outlier_cutoff)))\n",
    "                                .add(1)\n",
    "                                .pow(1/lag)\n",
    "                                .sub(1))\n",
    "    return df\n",
    "    \n",
    "data = data.groupby(level = 1, group_keys = False).apply(calculate_returns).dropna()"
   ]
  },
  {
   "cell_type": "code",
   "execution_count": 7,
   "metadata": {},
   "outputs": [],
   "source": [
    "'''Download FAMA-FRENCH factors and calculate rolling factor betas'''\n",
    "#we are introducing the FAMA french data to estimate the exposure of assets to\n",
    "#common risk factors with linear regression.\n",
    "#five factors are market risk size, value, operating probability and investment\n",
    "#these have been shown to empirically assess asset returns\n",
    "#we can access historical returns using pandas-datareader and estimate historial \n",
    "#exposures using Rollingols model\n",
    "\n",
    "factor_data = web.DataReader('F-F_Research_Data_5_Factors_2x3',\n",
    "               'famafrench',\n",
    "               start = '2010')[0].drop('RF', axis = 1)\n",
    "\n",
    "factor_data.index = factor_data.index.to_timestamp() #but this returns beginning of month data, which we have to fix to end of month\n",
    "\n",
    "factor_data = factor_data.resample('M').last().div(100)\n",
    "\n",
    "factor_data.index.name = 'date'\n",
    "#now we just combine this with the 1 month return from previous code\n",
    "\n",
    "# '''We are adding timezones to factordata date as data has timezones'''\n",
    "# #Check if 'factor_data' is timezone-aware\n",
    "# if factor_data.index.tz is None:\n",
    "#     # If it's not timezone-aware, localize it to UTC (or any timezone you prefer)\n",
    "#     factor_data.index = factor_data.index.tz_localize('UTC')\n",
    "# else:\n",
    "#     # If it's already timezone-aware, ensure it's in the same timezone (UTC)\n",
    "#     factor_data.index = factor_data.index.tz_convert('UTC')\n",
    "# '''end of bug fix'''\n",
    "\n",
    "factor_data = factor_data.join(data['return_1m']).sort_index()"
   ]
  },
  {
   "cell_type": "code",
   "execution_count": 8,
   "metadata": {},
   "outputs": [],
   "source": [
    "'''Filter out stocks with less than 10 months of data'''\n",
    "#we do this because we are going to use rolling window for the regression of 24mnths\n",
    "#stocks without enough data can break our functions\n",
    "\n",
    "observations = factor_data.groupby(level = 1).size()\n",
    "valid_stocks = observations[observations >= 10] #more than 10 months data\n",
    "\n",
    "factor_data = factor_data[factor_data.index.get_level_values('ticker').isin(valid_stocks.index)]"
   ]
  },
  {
   "cell_type": "code",
   "execution_count": 9,
   "metadata": {},
   "outputs": [],
   "source": [
    "'''Calculating the rolling factor betas'''\n",
    "\n",
    "betas = (factor_data.groupby(level = 1,\n",
    "                    group_keys = False)\n",
    "        .apply(lambda x: RollingOLS(endog = x['return_1m'],\n",
    "                                    exog = sm.add_constant(x.drop('return_1m', axis = 1)),\n",
    "                                    window = min(24, x.shape[0]), #if less than 24 months data, still calculate ols\n",
    "                                    min_nobs = len(x.columns)+1)\n",
    "        .fit(params_only = True)\n",
    "        .params\n",
    "        .drop('const', axis = 1)))"
   ]
  },
  {
   "cell_type": "code",
   "execution_count": 10,
   "metadata": {},
   "outputs": [],
   "source": [
    "'''Joining the betas to the features as well'''\n",
    "#however we cannot blindly join betas to our dataset\n",
    "#this is because we use the factor at the beginning of the month and return at the end of the month to compute betas.\n",
    "#so at the end of the month, well be able to run the regression and have the betas but we will have them in the next month.\n",
    "#so the betas of oct 31 will be known in nov 1\n",
    "#so we shift the betas one month ahead before joining\n",
    "#doing betas.shift() will simply shift betas forward by ticker, so XOM will get WMT's beta\n",
    "\n",
    "data = data.join( betas.groupby('ticker').shift() )\n",
    "\n",
    "#removing the NaN values in the FAMA-French columns\n",
    "factors = ['Mkt-RF', 'SMB', 'HML', 'RMW', 'CMA']\n",
    "\n",
    "data.loc[:, factors] = data.groupby('ticker', group_keys = False)[factors].apply(lambda x: x.fillna(x.mean()))\n",
    "data = data.dropna()\n",
    "data = data.drop('adj close', axis = 1)"
   ]
  },
  {
   "cell_type": "code",
   "execution_count": 11,
   "metadata": {},
   "outputs": [
    {
     "data": {
      "text/plain": [
       "\"We'll use a K-means clustering alg to group similar assets based on their features\""
      ]
     },
     "execution_count": 11,
     "metadata": {},
     "output_type": "execute_result"
    }
   ],
   "source": [
    "'''Now we will start with the ML model as the data is complete'''\n",
    "#We have the top 150 most liquid stocks at the end of each month.\n",
    "#Our job is to build portfolios at the EOM and evaluate which stocks to put in.\n",
    "\n",
    "'''We'll use a K-means clustering alg to group similar assets based on their features'''\n",
    "#Split the stocks into four diff groups (optimal number of clusters as said by a quant)"
   ]
  },
  {
   "cell_type": "code",
   "execution_count": 12,
   "metadata": {},
   "outputs": [],
   "source": [
    "from sklearn.cluster import KMeans\n",
    "\n",
    "#Now we'll assign a cluster to each stock\n",
    "def get_clusters(df):\n",
    "    df['cluster'] = KMeans(n_clusters = 4, #4 clusters: 0,1,2,3\n",
    "                           random_state = 0,  #clustering works with random seed\n",
    "                           init = 'random').fit(df).labels_\n",
    "    return df\n",
    "\n",
    "data = data.dropna().groupby('date', group_keys = False).apply(get_clusters)"
   ]
  },
  {
   "cell_type": "code",
   "execution_count": 15,
   "metadata": {},
   "outputs": [],
   "source": [
    "'''Visualizing the clustering'''\n",
    "#Since we didnt normalize the RSI before, we can use this for visualization\n",
    "#We cannot visualize all the features in even a 3 dimensional space\n",
    "\n",
    "def plot_clusters(data):\n",
    "\n",
    "    cluster_0 = data[data['cluster'] == 0]\n",
    "    cluster_1 = data[data['cluster'] == 1]\n",
    "    cluster_2 = data[data['cluster'] == 2]\n",
    "    cluster_3 = data[data['cluster'] == 3]\n",
    "\n",
    "    #5th index (6th column) is the ATR in the dataframe\n",
    "    #1st index (2nd column) is the RSI in the dataframe\n",
    "    #Plotting ATR against RSI\n",
    "    plt.scatter(cluster_0.iloc[:, 5], cluster_0.iloc[:, 1], color = 'red', label = 'cluster_0')\n",
    "    plt.scatter(cluster_1.iloc[:, 5], cluster_1.iloc[:, 1], color = 'green', label = 'cluster_1')\n",
    "    plt.scatter(cluster_2.iloc[:, 5], cluster_2.iloc[:, 1], color = 'blue', label = 'cluster_2')\n",
    "    plt.scatter(cluster_3.iloc[:, 5], cluster_3.iloc[:, 1], color = 'black', label = 'cluster_3')\n",
    "\n",
    "    plt.legend()\n",
    "    plt.show()"
   ]
  },
  {
   "cell_type": "code",
   "execution_count": null,
   "metadata": {},
   "outputs": [],
   "source": [
    "#actually plotting\n",
    "\n",
    "plt.style.use('ggplot')\n",
    "\n",
    "for i in data.index.get_level_values('date').unique().tolist():\n",
    "    g = data.xs(i, level = 0)\n",
    "    plt.title(f'Date {i}')\n",
    "    plot_clusters(g)\n",
    "\n",
    "#an observation i made was that the clusters are grouped based on RSI values\n",
    "#clusters more or less are grouped as >60, 50-60, 40-50 and <40\n",
    "#however since K-means centroids are random, the clusters are also a bit random"
   ]
  },
  {
   "cell_type": "code",
   "execution_count": 16,
   "metadata": {},
   "outputs": [],
   "source": [
    "target_rsi_values = [30, 45, 55, 70]\n",
    "\n",
    "initial_centroids = np.zeros((len(target_rsi_values), 18)) #checked the k means docs for this. 18 represents the number of columns of data\n",
    "\n",
    "initial_centroids[:, 1] = target_rsi_values #rsi value column"
   ]
  },
  {
   "cell_type": "code",
   "execution_count": null,
   "metadata": {},
   "outputs": [],
   "source": [
    "'''Now we are going to apply the newfound knowledge about initial centroids to the K-means clustering alg'''\n",
    "#We will drop the original clusters\n",
    "\n",
    "data = data.drop('cluster', axis = 1)\n",
    "\n",
    "def get_clusters(df):\n",
    "    df['cluster'] = KMeans(n_clusters = 4, #4 clusters: 0,1,2,3\n",
    "                           random_state = 0,  #clustering works with initial centroids\n",
    "                           init = initial_centroids).fit(df).labels_\n",
    "    return df\n",
    "\n",
    "data = data.dropna().groupby('date', group_keys = False).apply(get_clusters)"
   ]
  },
  {
   "cell_type": "code",
   "execution_count": null,
   "metadata": {},
   "outputs": [],
   "source": [
    "plt.style.use('ggplot')\n",
    "\n",
    "for i in data.index.get_level_values('date').unique().tolist():\n",
    "    g = data.xs(i, level = 0)\n",
    "    plt.title(f'Date {i}')\n",
    "    plot_clusters(g)"
   ]
  },
  {
   "cell_type": "code",
   "execution_count": 32,
   "metadata": {},
   "outputs": [],
   "source": [
    "'''At the beginnng of each new month, select stocks based on cluster and form'''\n",
    "'''a portfolio based on efficient frointier max sharpe ratio optimization'''\n",
    "#momentum is persistent, and our idea would be that stocks clustered around 70 rsi centroid should\n",
    "#continue to outperform in the following month, So we would select the stocks of cluster 3\n",
    "\n",
    "filtered_df = data[data['cluster'] == 3].copy()\n",
    "\n",
    "filtered_df = filtered_df.reset_index(level = 1)\n",
    "filtered_df.index = filtered_df.index + pd.DateOffset(1) #moving each day with one so we go from end of month to beginning of next month\n",
    "filtered_df = filtered_df.reset_index().set_index(['date', 'ticker'])\n",
    "\n",
    "dates = filtered_df.index.get_level_values('date').unique().tolist()\n",
    "\n",
    "fixed_dates = {}\n",
    "\n",
    "for d in dates:\n",
    "    \n",
    "    fixed_dates[d.strftime('%Y-%m-%d')] = filtered_df.xs(d, level = 0).index.tolist()"
   ]
  },
  {
   "cell_type": "code",
   "execution_count": 35,
   "metadata": {},
   "outputs": [
    {
     "data": {
      "text/plain": [
       "'DEFINE PORTFOLIO OPTIMIZATION FUNCTION'"
      ]
     },
     "execution_count": 35,
     "metadata": {},
     "output_type": "execute_result"
    }
   ],
   "source": [
    "'''DEFINE PORTFOLIO OPTIMIZATION FUNCTION'''\n",
    "#we will use the PyPortfolioOpt package and EfficientFrontier to maximize the sharpe ratio\n",
    "#to optimize the weights of a given portfolio, we would need to supply last one year prices to the function\n",
    "#apply single stock weight bounds constraint for diversification (minimum half of equally weight and maximum 10% of portfolio)"
   ]
  },
  {
   "cell_type": "code",
   "execution_count": 36,
   "metadata": {},
   "outputs": [],
   "source": [
    "from pypfopt.efficient_frontier import EfficientFrontier\n",
    "from pypfopt import risk_models\n",
    "from pypfopt import expected_returns\n",
    "\n",
    "#the lower bound is here because if i just put in 0, the porfolio might be designed such that:\n",
    "#1 stock has a weight of 1 and the others have a weight of 0\n",
    "\n",
    "def optimize_weights(prices, lower_bound=0):\n",
    "\n",
    "    returns = expected_returns.mean_historical_return(prices = prices,\n",
    "                                                      frequency = 252) #1 yr of trading data\n",
    "    cov = risk_models.sample_cov(prices = prices,\n",
    "                                 frequency = 252)\n",
    "    ef = EfficientFrontier(expected_returns = returns,\n",
    "                           cov_matrix = cov,\n",
    "                           weight_bounds = (lower_bound, .1),\n",
    "                           solver = 'SCS')\n",
    "    weights = ef.max_sharpe()\n",
    "\n",
    "    return ef.clean_weights()"
   ]
  },
  {
   "cell_type": "code",
   "execution_count": 37,
   "metadata": {},
   "outputs": [
    {
     "name": "stderr",
     "output_type": "stream",
     "text": [
      "[*********************100%***********************]  154 of 154 completed\n"
     ]
    }
   ],
   "source": [
    "stocks = data.index.get_level_values('ticker').unique().tolist()\n",
    "\n",
    "new_df = yf.download(tickers = stocks,\n",
    "                     start = data.index.get_level_values('date').unique()[0]-pd.DateOffset(months=12),\n",
    "                     end = data.index.get_level_values('date').unique()[-1]) #past year of data collected"
   ]
  },
  {
   "cell_type": "code",
   "execution_count": 39,
   "metadata": {},
   "outputs": [],
   "source": [
    "#Calculate daily returns for each stock whcih could land up in the portfolio\n",
    "#Loop over each month start, select stocks for the month and calculate weights for the nextmonth\n",
    "#if max sharpe ratio optimization fails for a monnth, apply equally weighted weights\n",
    "#calculate each day portfolio return"
   ]
  },
  {
   "cell_type": "code",
   "execution_count": null,
   "metadata": {},
   "outputs": [
    {
     "name": "stdout",
     "output_type": "stream",
     "text": [
      "['ABBV', 'ABT', 'AMGN', 'AMT', 'AXP', 'BDX', 'CI', 'CMCSA', 'CVS', 'DAL', 'DE', 'DHR', 'ELV', 'GM', 'JNJ', 'KO', 'LLY', 'MCD', 'MDLZ', 'MDT', 'MRK', 'NEE', 'PEP', 'PFE', 'PG', 'SBUX', 'TMO', 'UAL', 'UNH', 'VZ', 'WBA']\n",
      "['AAPL', 'ACN', 'ADP', 'AXP', 'BAC', 'CHTR', 'CI', 'CMCSA', 'COST', 'CSX', 'DAL', 'EA', 'EXPE', 'FCX', 'GILD', 'HON', 'HUM', 'IBM', 'JNJ', 'JPM', 'KR', 'MCK', 'META', 'MS', 'MU', 'NOC', 'OXY', 'T', 'TGT', 'TJX', 'TMUS', 'ULTA', 'UPS', 'VLO', 'WFC']\n",
      "['ADI', 'ADSK', 'AMAT', 'AMD', 'AMT', 'AVGO', 'BA', 'BDX', 'C', 'CHTR', 'CMG', 'CSCO', 'DG', 'DHR', 'DLTR', 'EBAY', 'ELV', 'GE', 'GM', 'IBM', 'LRCX', 'LUV', 'MA', 'MCK', 'MDLZ', 'META', 'MGM', 'NKE', 'NXPI', 'ORCL', 'PANW', 'PG', 'REGN', 'SBUX', 'SHW', 'TJX', 'USB', 'VLO', 'WYNN']\n",
      "['ABT', 'ACN', 'ADBE', 'ADI', 'ADP', 'ADSK', 'AMT', 'AXP', 'AZO', 'BA', 'BLK', 'CHTR', 'CMG', 'CRM', 'CSCO', 'CSX', 'DHR', 'EBAY', 'HON', 'IBM', 'INTC', 'LLY', 'LMT', 'LOW', 'MA', 'MAR', 'MRK', 'NEE', 'NKE', 'NOC', 'ORCL', 'PANW', 'PM', 'PYPL', 'TMO', 'ULTA', 'UNP', 'V', 'XOM']\n",
      "['ACN', 'ADP', 'AMT', 'AVGO', 'AZO', 'CMG', 'COST', 'CSCO', 'DHR', 'DLTR', 'HON', 'LOW', 'MA', 'MCD', 'MDLZ', 'MO', 'MRK', 'PEP', 'PG', 'PYPL', 'SBUX', 'TGT', 'TMO', 'ULTA', 'V']\n",
      "['ACN', 'ADBE', 'ADSK', 'AMZN', 'AXP', 'BLK', 'BRK-B', 'C', 'CHTR', 'CMCSA', 'CSX', 'DIS', 'DLTR', 'F', 'HON', 'JPM', 'KO', 'LMT', 'LRCX', 'MA', 'MAR', 'MCD', 'MDLZ', 'META', 'MS', 'MSFT', 'NOW', 'PEP', 'PYPL', 'QCOM', 'RTX', 'SBUX', 'STZ', 'USB', 'V']\n",
      "['AIG', 'AMT', 'CHTR', 'DG', 'KO', 'LMT', 'MA', 'MCD', 'MDT', 'NEE', 'NOC', 'PEP', 'TGT']\n",
      "['ABT', 'AMAT', 'AMGN', 'BDX', 'BLK', 'BRK-B', 'C', 'CAT', 'CHTR', 'COST', 'DE', 'DHR', 'EA', 'EBAY', 'EXPE', 'GM', 'GS', 'HD', 'HON', 'LMT', 'MAR', 'MCD', 'MDT', 'MGM', 'MPC', 'NOC', 'ORCL', 'SBUX', 'T', 'TGT', 'TMO', 'V', 'VLO', 'WDC', 'WMT']\n",
      "['AAPL', 'ABT', 'AIG', 'AMAT', 'AMGN', 'BAC', 'CMG', 'COST', 'EBAY', 'GM', 'GOOG', 'GOOGL', 'GS', 'HUM', 'IBM', 'JPM', 'LRCX', 'MDT', 'MGM', 'MU', 'NOC', 'PANW', 'PG', 'SBUX', 'SHW', 'T', 'TXN', 'UNP', 'UPS', 'USB', 'WDC']\n",
      "['AMGN', 'AMT', 'CHTR', 'CMG', 'COST', 'CVS', 'HD', 'INTU', 'KO', 'LMT', 'LOW', 'MDT', 'NEE', 'NOC', 'PEP', 'SHW', 'T', 'TGT', 'UPS', 'WMT']\n",
      "['AAPL', 'ABBV', 'BMY', 'DE', 'DLTR', 'HD', 'IBM', 'KR', 'MPC', 'NEE', 'NKE', 'PG', 'SHW', 'T', 'TGT', 'VZ', 'WFC', 'WMT']\n",
      "['AAPL', 'ABBV', 'ALGN', 'AMD', 'AMGN', 'BIIB', 'BMY', 'CAT', 'CHTR', 'CI', 'CVS', 'GE', 'HUM', 'INTC', 'JPM', 'LRCX', 'MS', 'NEE', 'NVDA', 'ORLY', 'PANW', 'PFE', 'RTX', 'TSLA', 'UNH', 'USB', 'VLO', 'VRTX', 'WFC']\n",
      "['AAPL', 'ABBV', 'ACN', 'ADBE', 'ADSK', 'ALGN', 'AMD', 'AMGN', 'BAC', 'BIIB', 'BLK', 'CI', 'CVS', 'DIS', 'GE', 'HUM', 'ISRG', 'JNJ', 'JPM', 'MA', 'MAR', 'META', 'MGM', 'MO', 'MS', 'MSFT', 'NOW', 'REGN', 'RTX', 'SCHW', 'TGT', 'UNH', 'USB', 'VRTX', 'WFC']\n",
      "['AAPL', 'ACN', 'ADBE', 'AMD', 'AMGN', 'BAC', 'BMY', 'C', 'HUM', 'JNJ', 'JPM', 'LLY', 'MAR', 'MGM', 'MSFT', 'NKE', 'TSLA', 'UNH', 'WDC']\n",
      "['ADBE', 'ADSK', 'AMZN', 'CHTR', 'CRM', 'IBM', 'JNJ', 'KO', 'LLY', 'LMT', 'MCD', 'MDLZ', 'MSFT', 'NEE', 'NOW', 'TSLA']\n",
      "['REGN']\n",
      "['ADI', 'ALGN', 'AXP', 'AZO', 'BAC', 'BKNG', 'CMCSA', 'CVX', 'DD', 'DIS', 'EBAY', 'EL', 'FCX', 'GE', 'GS', 'HON', 'JPM', 'KO', 'LUV', 'MA', 'MS', 'NXPI', 'ORLY', 'PANW', 'RTX', 'STZ', 'T', 'TGT', 'ULTA', 'USB', 'VLO', 'WDC']\n",
      "['AMGN', 'AMZN', 'CMG', 'DD', 'DHR', 'EBAY', 'GILD', 'HUM', 'META', 'NOW', 'PFE', 'PYPL', 'TSLA', 'VLO']\n",
      "['ADSK', 'DG', 'DLTR', 'EBAY', 'LOW', 'PANW', 'PYPL']\n",
      "['AAPL', 'ABBV', 'ADBE', 'ADSK', 'AMZN', 'AVGO', 'DHR', 'EA', 'EBAY', 'FCX', 'LOW', 'LRCX', 'LULU', 'MSFT', 'NVDA', 'PYPL', 'QCOM', 'TSLA', 'UPS']\n",
      "['AAPL', 'ABT', 'ACN', 'AMD', 'AMZN', 'AZO', 'BDX', 'CHTR', 'COST', 'DE', 'DHR', 'EA', 'FDX', 'HD', 'ISRG', 'LIN', 'LOW', 'LRCX', 'MDLZ', 'META', 'NEE', 'NVDA', 'ORLY', 'PANW', 'PFE', 'PG', 'PYPL', 'QCOM', 'SHW', 'TGT', 'TMO', 'UPS']\n",
      "['AAPL', 'ABT', 'ACN', 'AMD', 'AVGO', 'BRK-B', 'CHTR', 'CMG', 'COST', 'CRM', 'DE', 'FDX', 'INTU', 'ISRG', 'LOW', 'LULU', 'MA', 'MCD', 'MDLZ', 'META', 'NKE', 'NVDA', 'PG', 'QCOM', 'TGT', 'TSLA', 'UPS']\n",
      "['ABT', 'AVGO', 'COST', 'DE', 'DG', 'DHR', 'FDX', 'MCD', 'NKE', 'NVDA', 'PG', 'TGT', 'TMO', 'UPS']\n",
      "['ADP', 'AIG', 'ALGN', 'DHR', 'F', 'FCX', 'GE', 'GM', 'GOOG', 'GOOGL', 'NXPI', 'SCHW', 'TMO']\n",
      "['ABBV', 'ADI', 'ADP', 'ADSK', 'ALGN', 'AMAT', 'AMD', 'AVGO', 'BA', 'BLK', 'C', 'COST', 'CSCO', 'DAL', 'DE', 'DIS', 'EXPE', 'F', 'FCX', 'GE', 'GM', 'GS', 'HON', 'LRCX', 'LULU', 'MAR', 'MGM', 'MS', 'MU', 'NKE', 'NXPI', 'OXY', 'PANW', 'PFE', 'QCOM', 'SBUX', 'SCHW', 'TGT', 'TMUS', 'TSLA', 'UAL', 'WMT']\n",
      "['ADI', 'ADSK', 'ALGN', 'AVGO', 'BKNG', 'C', 'DD', 'DIS', 'EA', 'EL', 'EXPE', 'FCX', 'GS', 'ISRG', 'JNJ', 'JPM', 'LLY', 'MS', 'MU', 'ORCL', 'PANW', 'SBUX', 'SCHW', 'TMUS', 'TSLA', 'WDC']\n",
      "['ABT', 'LLY', 'WBA']\n",
      "['AMAT', 'AXP', 'BAC', 'CAT', 'COP', 'CVX', 'DAL', 'DE', 'EL', 'EXPE', 'F', 'GE', 'GS', 'HAL', 'JPM', 'LLY', 'LUV', 'MAR', 'MGM', 'MPC', 'MS', 'MU', 'OXY', 'SBUX', 'SCHW', 'SLB', 'UAL', 'ULTA', 'WDC', 'WFC', 'WYNN', 'XOM']\n",
      "['ACN', 'ADP', 'AMAT', 'AMT', 'AZO', 'BAC', 'CAT', 'CI', 'CSCO', 'DE', 'ELV', 'FDX', 'HD', 'HUM', 'IBM', 'LIN', 'LMT', 'LOW', 'MCD', 'MMM', 'MO', 'NOC', 'ORLY', 'PG', 'TGT', 'TXN', 'UNH', 'UPS', 'USB', 'WBA']\n",
      "['ACN', 'AMT', 'AMZN', 'BLK', 'BRK-B', 'BSX', 'CHTR', 'DHR', 'EL', 'ELV', 'GOOG', 'GOOGL', 'HD', 'HUM', 'ISRG', 'MCD', 'MDLZ', 'MDT', 'META', 'NOC', 'ORLY', 'PFE', 'PM', 'RTX', 'SHW', 'SPGI', 'T', 'TGT', 'UNH', 'UPS', 'V', 'WFC']\n",
      "['AMT', 'AXP', 'BAC', 'BLK', 'BRK-B', 'C', 'CRM', 'CVS', 'DD', 'ELV', 'F', 'FDX', 'GOOG', 'GS', 'INTU', 'JPM', 'KO', 'LIN', 'LLY', 'MDLZ', 'META', 'MPC', 'MRNA', 'MS', 'NOC', 'NVDA', 'NXPI', 'RTX', 'SCHW', 'SHW', 'TGT', 'TMUS', 'ULTA', 'UNH', 'UPS', 'WFC']\n",
      "['AAPL', 'ADBE', 'ADI', 'AMD', 'AZO', 'CHTR', 'CMG', 'CRWD', 'DHR', 'EBAY', 'EL', 'INTU', 'ISRG', 'LLY', 'LULU', 'MRNA', 'MSFT', 'NKE', 'NOW', 'NVDA', 'ORLY', 'PYPL', 'QCOM', 'REGN', 'SPGI', 'TGT', 'TMO']\n",
      "['ACN', 'ADBE', 'ADP', 'ADSK', 'ALGN', 'AMD', 'AZO', 'CMG', 'COST', 'DG', 'DHR', 'EL', 'GOOGL', 'INTU', 'ISRG', 'LIN', 'LLY', 'LULU', 'MRNA', 'MSFT', 'NKE', 'NOW', 'PEP', 'PFE', 'PG', 'SHW', 'SPGI', 'TGT', 'TMO']\n",
      "['AAPL', 'ABBV', 'ABT', 'ACN', 'ADBE', 'ALGN', 'AMD', 'AMT', 'AVGO', 'BLK', 'CHTR', 'CMCSA', 'CMG', 'COST', 'CRM', 'CRWD', 'CSCO', 'DHR', 'EBAY', 'EL', 'GILD', 'GOOG', 'GOOGL', 'GS', 'INTU', 'ISRG', 'KR', 'LIN', 'META', 'MO', 'MS', 'MSFT', 'NEE', 'NFLX', 'NOW', 'NVDA', 'PANW', 'PM', 'REGN', 'SHW', 'SPGI', 'TMO', 'TSLA', 'ULTA', 'WBA']\n",
      "['AZO', 'COP', 'NFLX', 'PANW', 'TSLA']\n",
      "['ABBV', 'ABT', 'ACN', 'ADBE', 'ADP', 'ADSK', 'AMD', 'AVGO', 'AZO', 'BAC', 'BLK', 'COP', 'COST', 'CRM', 'CSX', 'CVS', 'CVX', 'ELV', 'F', 'GOOG', 'GOOGL', 'HD', 'HUM', 'INTU', 'ISRG', 'KO', 'LIN', 'LLY', 'LOW', 'LULU', 'MAR', 'MRK', 'MSFT', 'NFLX', 'NKE', 'NOW', 'NVDA', 'PANW', 'PEP', 'REGN', 'SCHW', 'SHW', 'SPGI', 'TGT', 'TMO', 'TSLA', 'UNH', 'UNP', 'UPS', 'WFC', 'WMT', 'XOM']\n",
      "['AAPL', 'AMD', 'COST', 'F', 'HD', 'LOW', 'LRCX', 'MU', 'NVDA', 'PANW', 'PFE', 'QCOM', 'SHW', 'TSLA']\n",
      "['AAPL', 'ADP', 'AMGN', 'BMY', 'BRK-B', 'CI', 'COST', 'CSX', 'DD', 'DG', 'DHR', 'EL', 'F', 'FCX', 'FDX', 'GILD', 'HD', 'HUM', 'JNJ', 'LIN', 'LLY', 'LMT', 'LOW', 'LRCX', 'MAR', 'MCD', 'MO', 'MU', 'NEE', 'NOC', 'PFE', 'PM', 'QCOM', 'SBUX', 'SHW', 'TJX', 'TMO', 'UNP', 'UPS', 'WBA', 'WDC']\n",
      "['ABBV', 'AXP', 'BMY', 'COP', 'CVS', 'CVX', 'FIS', 'HAL', 'KO', 'LMT', 'MA', 'MO', 'MPC', 'OXY', 'PM', 'SLB', 'V', 'VRTX', 'XOM']\n",
      "['ABBV', 'AXP', 'BMY', 'COP', 'CVX', 'FCX', 'HAL', 'LMT', 'MPC', 'NOC', 'OXY', 'PANW', 'RTX', 'XOM']\n",
      "['ABBV', 'ADP', 'AMGN', 'BMY', 'BRK-B', 'CAT', 'COST', 'CRWD', 'LLY', 'LULU', 'MPC', 'MRK', 'NEM', 'OXY', 'PANW', 'REGN', 'TSLA', 'UNP', 'VRTX', 'WMT']\n",
      "['MO', 'MRK', 'UAL']\n",
      "['ADI', 'AMGN', 'CI', 'COP', 'CVX', 'EA', 'EOG', 'FDX', 'GILD', 'HAL', 'IBM', 'LLY', 'MPC', 'MRK', 'OXY', 'PARA', 'PFE', 'PM', 'SLB', 'T', 'ULTA', 'USB', 'WDC', 'XOM']\n",
      "['ADBE', 'ADI', 'ALGN', 'AMAT', 'AMD', 'AMZN', 'AVGO', 'AXP', 'BKNG', 'C', 'CMCSA', 'COP', 'CSCO', 'CVX', 'DE', 'EA', 'EBAY', 'EOG', 'FI', 'FIS', 'GM', 'HAL', 'HD', 'HON', 'ISRG', 'JPM', 'LIN', 'LOW', 'LULU', 'MA', 'MDT', 'META', 'MPC', 'MS', 'NFLX', 'NKE', 'NVDA', 'PYPL', 'SHW', 'SLB', 'TJX', 'TXN', 'UAL', 'UBER', 'USB', 'WFC', 'WMT']\n",
      "['AAPL', 'ACN', 'ADI', 'ADP', 'ADSK', 'AMT', 'AMZN', 'BA', 'BLK', 'BRK-B', 'BSX', 'C', 'CMG', 'COST', 'CSX', 'CVX', 'DE', 'DHR', 'EBAY', 'EL', 'F', 'FI', 'FIS', 'GE', 'GS', 'HON', 'INTU', 'LRCX', 'MA', 'MCD', 'MDLZ', 'MMM', 'MS', 'MSFT', 'NEE', 'NFLX', 'NXPI', 'ORCL', 'PEP', 'SBUX', 'SCHW', 'SPGI', 'TMO', 'TMUS', 'TSLA', 'TXN', 'UNH', 'UNP', 'UPS', 'XOM']\n",
      "['ABT', 'ACN', 'ADBE', 'ADI', 'ALGN', 'AMAT', 'AMD', 'AMGN', 'AMT', 'AVGO', 'AZO', 'BIIB', 'BRK-B', 'C', 'CHTR', 'CMCSA', 'DAL', 'DD', 'DG', 'EBAY', 'FDX', 'FIS', 'GOOG', 'GOOGL', 'HD', 'IBM', 'ISRG', 'KO', 'LIN', 'LLY', 'LRCX', 'LUV', 'MA', 'MDLZ', 'MDT', 'MRNA', 'MSFT', 'MU', 'NKE', 'NOW', 'NVDA', 'NXPI', 'PARA', 'PG', 'PM', 'QCOM', 'REGN', 'RTX', 'SHW', 'SPGI', 'TMO', 'UAL', 'USB', 'V']\n",
      "['BIIB']\n",
      "['AMGN', 'AZO', 'BAC', 'BIIB', 'BMY', 'BSX', 'CAT', 'CI', 'COP', 'CSCO', 'CVX', 'DE', 'ELV', 'EOG', 'GE', 'GILD', 'GS', 'HAL', 'HON', 'HUM', 'IBM', 'ISRG', 'JNJ', 'JPM', 'LLY', 'LMT', 'MCD', 'MPC', 'MRK', 'NCLH', 'NFLX', 'NOC', 'ORCL', 'PEP', 'RCL', 'RTX', 'SCHW', 'SLB', 'T', 'TJX', 'TMUS', 'UAL', 'UNH', 'V', 'WMT', 'XOM']\n",
      "['ABBV', 'ADI', 'ADP', 'AMAT', 'AMGN', 'AVGO', 'AZO', 'BA', 'BDX', 'BIIB', 'BKNG', 'BMY', 'BRK-B', 'BSX', 'CAT', 'CMCSA', 'CMG', 'COST', 'CSCO', 'CSX', 'DD', 'DE', 'FCX', 'GE', 'GILD', 'GS', 'HON', 'IBM', 'ISRG', 'JNJ', 'JPM', 'KO', 'LIN', 'LLY', 'LMT', 'LULU', 'LUV', 'MA', 'MDLZ', 'MRK', 'MS', 'NKE', 'NVDA', 'ORCL', 'PFE', 'PG', 'PM', 'RTX', 'SBUX', 'SCHW', 'T', 'TJX', 'UPS', 'V', 'WMT', 'WYNN']\n",
      "['ABBV', 'ABT', 'ALGN', 'AVGO', 'BA', 'BDX', 'BSX', 'CAT', 'CI', 'EL', 'GILD', 'JPM', 'KO', 'LMT', 'MDLZ', 'MRK', 'NKE', 'NOC', 'ORCL', 'PG', 'PM', 'RTX', 'SCHW', 'SLB', 'TJX', 'VZ']\n",
      "['ADBE', 'ALGN', 'AMZN', 'AXP', 'BA', 'BKNG', 'C', 'CMCSA', 'CMG', 'COST', 'CRM', 'DAL', 'DIS', 'EBAY', 'EL', 'EXPE', 'GE', 'LRCX', 'MAR', 'META', 'MS', 'NFLX', 'NKE', 'NOW', 'NVDA', 'NXPI', 'ORCL', 'PARA', 'PM', 'QCOM', 'RCL', 'SBUX', 'SPGI', 'T', 'TGT', 'UBER', 'USB', 'V', 'VRTX', 'VZ', 'WFC', 'WYNN']\n",
      "['ADI', 'ALGN', 'AXP', 'BKNG', 'CRWD', 'FI', 'GE', 'JPM', 'LIN', 'META', 'NVDA', 'PANW', 'RCL', 'TSLA', 'UAL', 'WYNN']\n",
      "['AAPL', 'ACN', 'ADBE', 'ADI', 'ALGN', 'AMD', 'AMZN', 'AVGO', 'BKNG', 'BSX', 'CMG', 'CRM', 'CRWD', 'CSCO', 'EA', 'FDX', 'GE', 'INTC', 'INTU', 'KO', 'LRCX', 'LULU', 'MCD', 'MDLZ', 'META', 'MPC', 'MSFT', 'NVDA', 'ORCL', 'PANW', 'PEP', 'PG', 'REGN', 'TSLA', 'TXN', 'UPS', 'VRTX', 'WMT', 'WYNN']\n",
      "['AAPL', 'AZO', 'BDX', 'BIIB', 'BRK-B', 'BSX', 'CMCSA', 'CMG', 'FI', 'GE', 'ISRG', 'KO', 'LIN', 'LLY', 'LULU', 'MA', 'MCD', 'MDLZ', 'MDT', 'META', 'MO', 'MSFT', 'PEP', 'PG', 'SBUX', 'VRTX']\n",
      "['AAPL', 'ACN', 'ADBE', 'AMAT', 'AMD', 'AMZN', 'AVGO', 'CMG', 'CRM', 'CRWD', 'EA', 'GOOG', 'GOOGL', 'ISRG', 'LLY', 'LRCX', 'META', 'MSFT', 'NFLX', 'NOW', 'NVDA', 'ORCL', 'PANW', 'RCL', 'TSLA']\n",
      "['AAPL', 'ADBE', 'ALGN', 'AMAT', 'AMZN', 'AVGO', 'BDX', 'CCL', 'CMG', 'COST', 'CSX', 'DAL', 'F', 'FDX', 'FI', 'GE', 'ISRG', 'LLY', 'LOW', 'LRCX', 'LUV', 'META', 'NCLH', 'NFLX', 'NVDA', 'NXPI', 'ORCL', 'PANW', 'PM', 'RCL', 'SHW', 'SPGI', 'TJX', 'TSLA', 'UAL']\n",
      "['AAPL', 'ABBV', 'ADBE', 'ADP', 'AMAT', 'BA', 'BAC', 'BDX', 'BKNG', 'BRK-B', 'CAT', 'CCL', 'CHTR', 'CI', 'CMCSA', 'COP', 'COST', 'DD', 'EOG', 'EXPE', 'FCX', 'FDX', 'GOOG', 'GOOGL', 'GS', 'HD', 'IBM', 'INTU', 'JPM', 'LOW', 'LRCX', 'MAR', 'META', 'MMM', 'MPC', 'MU', 'NCLH', 'NVDA', 'NXPI', 'PG', 'PYPL', 'QCOM', 'RCL', 'SCHW', 'SHW', 'SLB', 'TJX', 'UBER', 'UNP', 'USB', 'VLO', 'WMT']\n",
      "['ACN', 'ADBE', 'ADP', 'ADSK', 'AMGN', 'AVGO', 'BRK-B', 'BSX', 'CAT', 'CHTR', 'CMCSA', 'COP', 'CSCO', 'DHR', 'GOOG', 'GOOGL', 'HD', 'IBM', 'INTU', 'LLY', 'MA', 'MPC', 'NVDA', 'REGN', 'TJX', 'V', 'WMT']\n",
      "['ABBV', 'ACN', 'ADBE', 'ADI', 'ADP', 'ADSK', 'AMAT', 'AMD', 'AVGO', 'BSX', 'CAT', 'CMCSA', 'CSCO', 'CSX', 'CVS', 'DD', 'DHR', 'EA', 'EBAY', 'EOG', 'EXPE', 'F', 'FIS', 'GE', 'GILD', 'GM', 'GOOG', 'GOOGL', 'GS', 'INTC', 'INTU', 'ISRG', 'JPM', 'LLY', 'LRCX', 'MAR', 'META', 'MRNA', 'MU', 'NCLH', 'NKE', 'NOW', 'NVDA', 'NXPI', 'PANW', 'PM', 'QCOM', 'SLB', 'TJX', 'TSLA', 'UBER', 'VRTX', 'WMT']\n",
      "['AMT', 'CI', 'CMG', 'HUM', 'LMT', 'RTX', 'UNH', 'VZ']\n",
      "['ABT', 'AMT', 'AXP', 'BA', 'BAC', 'BLK', 'C', 'CMG', 'CRM', 'CRWD', 'EA', 'EXPE', 'FI', 'FIS', 'IBM', 'INTC', 'JPM', 'LIN', 'LULU', 'MCD', 'NFLX', 'NOW', 'PANW', 'QCOM', 'RCL', 'SCHW', 'SHW', 'SPGI', 'T', 'TGT', 'TMUS', 'UBER', 'V', 'VZ', 'WFC']\n",
      "['ABBV', 'ACN', 'ADI', 'ADSK', 'AMGN', 'AVGO', 'BSX', 'CCL', 'CSX', 'DHR', 'EXPE', 'F', 'FCX', 'FI', 'GE', 'GM', 'IBM', 'ISRG', 'LOW', 'LRCX', 'MA', 'MAR', 'MDT', 'META', 'MRK', 'MRNA', 'MU', 'NCLH', 'NOW', 'NXPI', 'REGN', 'SCHW', 'TJX', 'TMO', 'TXN', 'UBER', 'USB', 'V', 'VRTX', 'WFC']\n",
      "['ABBV', 'ABT', 'ACN', 'ADP', 'ADSK', 'AMD', 'AMGN', 'AXP', 'BRK-B', 'BSX', 'C', 'CAT', 'CMCSA', 'CMG', 'COST', 'CRM', 'CRWD', 'CSX', 'ELV', 'FI', 'GE', 'GM', 'IBM', 'ISRG', 'JPM', 'LLY', 'LRCX', 'MA', 'MAR', 'MDLZ', 'MDT', 'META', 'MPC', 'MRK', 'NFLX', 'NOW', 'NVDA', 'PANW', 'PG', 'REGN', 'RTX', 'SPGI', 'T', 'V', 'VLO', 'VRTX', 'VZ', 'WMT']\n",
      "['ABBV', 'AMAT', 'AMD', 'AMZN', 'AXP', 'AZO', 'BRK-B', 'BSX', 'CAT', 'CMG', 'COST', 'CRM', 'CSX', 'DIS', 'EBAY', 'FI', 'FIS', 'GE', 'GM', 'HD', 'JPM', 'LIN', 'LLY', 'LOW', 'LRCX', 'MA', 'META', 'MRK', 'NFLX', 'NVDA', 'NXPI', 'SHW', 'TGT', 'UBER', 'WFC', 'WMT']\n",
      "['AXP', 'BAC', 'BRK-B', 'C', 'CAT', 'CI', 'CMG', 'COP', 'DAL', 'DE', 'DIS', 'EBAY', 'EOG', 'FCX', 'FDX', 'FI', 'FIS', 'GE', 'GM', 'GS', 'JPM', 'LMT', 'MPC', 'MRK', 'MU', 'NEE', 'OXY', 'RCL', 'RTX', 'SCHW', 'SHW', 'SLB', 'TGT', 'VLO', 'WFC', 'XOM']\n",
      "['AXP', 'BSX', 'CI', 'CMG', 'DAL', 'ELV', 'FCX', 'GE', 'GM', 'GOOG', 'GOOGL', 'GS', 'KO', 'LLY', 'LMT', 'MDLZ', 'MMM', 'MO', 'MRK', 'NEE', 'NEM', 'NOC', 'NXPI', 'PEP', 'PG', 'PYPL', 'RCL', 'RTX', 'SCHW', 'TMUS', 'UAL', 'WFC']\n",
      "['AAPL', 'ADI', 'BSX', 'COST', 'LLY', 'MO', 'NEE', 'NVDA', 'PM', 'QCOM', 'RTX', 'T', 'TJX', 'TMUS', 'TXN', 'VRTX', 'WMT']\n",
      "['AAPL', 'ADBE', 'ADSK', 'BKNG', 'CCL', 'CHTR', 'COST', 'CRWD', 'FDX', 'GOOG', 'GOOGL', 'HON', 'HUM', 'INTU', 'ISRG', 'LLY', 'LRCX', 'MSFT', 'NOW', 'ORCL', 'PANW', 'RCL', 'REGN', 'T', 'TJX', 'TSLA', 'WMT']\n",
      "['ABBV', 'ACN', 'ADP', 'AMGN', 'AMT', 'AXP', 'AZO', 'BLK', 'BMY', 'BRK-B', 'CHTR', 'CMCSA', 'DHR', 'FDX', 'FI', 'GILD', 'GS', 'IBM', 'KO', 'LMT', 'LOW', 'MMM', 'NEM', 'NOC', 'PFE', 'PM', 'RTX', 'SHW', 'SPGI', 'TMO', 'UNH', 'UNP', 'USB', 'VRTX']\n",
      "['ABBV', 'ACN', 'ADP', 'BLK', 'BRK-B', 'BSX', 'CI', 'FI', 'FIS', 'GILD', 'GM', 'IBM', 'ISRG', 'JNJ', 'JPM', 'KO', 'LIN', 'LMT', 'MA', 'MCD', 'MDT', 'MMM', 'NEM', 'NOC', 'PM', 'PYPL', 'REGN', 'RTX', 'SHW', 'SPGI', 'TMUS', 'UNH', 'UNP', 'USB', 'WMT']\n",
      "['AAPL', 'ACN', 'ADSK', 'AXP', 'BKNG', 'BLK', 'BMY', 'BSX', 'CAT', 'CMCSA', 'CRM', 'CSCO', 'CVS', 'DAL', 'DE', 'DIS', 'EBAY', 'EXPE', 'FCX', 'FI', 'GE', 'GILD', 'HD', 'IBM', 'KO', 'LMT', 'LOW', 'MAR', 'MCD', 'MDT', 'META', 'MMM', 'NCLH', 'NEE', 'NKE', 'NOC', 'ORCL', 'PYPL', 'SBUX', 'SHW', 'T', 'TMUS', 'TSLA', 'UAL', 'UPS', 'VZ', 'WMT']\n",
      "['ABBV', 'BKNG', 'BMY', 'CCL', 'CMCSA', 'DAL', 'FI', 'FIS', 'GILD', 'MS', 'NCLH', 'PM', 'RCL', 'T', 'UAL', 'WFC']\n",
      "['ADP', 'ADSK', 'AMZN', 'BAC', 'BKNG', 'BLK', 'BSX', 'C', 'CCL', 'CHTR', 'COST', 'CRM', 'CRWD', 'CSCO', 'CVX', 'DAL', 'DIS', 'EXPE', 'FI', 'GILD', 'GM', 'GOOG', 'GOOGL', 'GS', 'INTC', 'INTU', 'ISRG', 'MA', 'MAR', 'MS', 'NCLH', 'NFLX', 'NOW', 'NVDA', 'ORCL', 'PANW', 'RCL', 'SCHW', 'TMUS', 'TSLA', 'TXN', 'UAL', 'UNH', 'V', 'VRTX', 'WFC', 'WMT']\n"
     ]
    }
   ],
   "source": [
    "retruns_dataframe = np.log(new_df['Adj Close']).diff()\n",
    "portfolio_df = pd.DataFrame()\n",
    "\n",
    "for start_date in fixed_dates.keys():\n",
    "\n",
    "    end_date = (pd.to_datetime(start_date) + pd.offsets.MonthEnd(0)).strftime('%Y-%m-%d')\n",
    "    \n",
    "    cols = fixed_dates[start_date] #stocks for each month which will form the portfolio\n",
    "\n",
    "    print(cols)"
   ]
  }
 ],
 "metadata": {
  "kernelspec": {
   "display_name": "Python 3",
   "language": "python",
   "name": "python3"
  },
  "language_info": {
   "codemirror_mode": {
    "name": "ipython",
    "version": 3
   },
   "file_extension": ".py",
   "mimetype": "text/x-python",
   "name": "python",
   "nbconvert_exporter": "python",
   "pygments_lexer": "ipython3",
   "version": "3.12.3"
  }
 },
 "nbformat": 4,
 "nbformat_minor": 2
}
